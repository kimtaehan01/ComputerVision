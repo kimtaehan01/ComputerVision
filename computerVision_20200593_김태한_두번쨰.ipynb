{
  "nbformat": 4,
  "nbformat_minor": 0,
  "metadata": {
    "colab": {
      "provenance": [],
      "authorship_tag": "ABX9TyMhCOVoMCfyBP/yNhaw742/",
      "include_colab_link": true
    },
    "kernelspec": {
      "name": "python3",
      "display_name": "Python 3"
    },
    "language_info": {
      "name": "python"
    }
  },
  "cells": [
    {
      "cell_type": "markdown",
      "metadata": {
        "id": "view-in-github",
        "colab_type": "text"
      },
      "source": [
        "<a href=\"https://colab.research.google.com/github/kimtaehan01/ComputerVision/blob/main/computerVision_20200593_%EA%B9%80%ED%83%9C%ED%95%9C_%EB%91%90%EB%B2%88%EC%A8%B0.ipynb\" target=\"_parent\"><img src=\"https://colab.research.google.com/assets/colab-badge.svg\" alt=\"Open In Colab\"/></a>"
      ]
    },
    {
      "cell_type": "markdown",
      "source": [
        "1. 그림 3-13(a)의 입력 영상에 대해 다음 구조 요소를 이용해 팽창한 영상과 침식한 영상을 제시하시오.\n",
        "\n"
      ],
      "metadata": {
        "id": "XCFwxJsEAeVF"
      }
    },
    {
      "cell_type": "code",
      "execution_count": null,
      "metadata": {
        "id": "AcTcGWp6AV-e"
      },
      "outputs": [],
      "source": [
        "from google.colab.patches import cv2_imshow\n",
        "import numpy as np\n",
        "import matplotlib.pyplot as plt"
      ]
    },
    {
      "cell_type": "code",
      "source": [
        "input_img=[[0,0,0,0,0,0,0,0],[0,0,0,1,0,0,0,0],[0,1,1,1,1,1,0,0],[0,1,1,0,1,1,1,0]]\n",
        "input_img = np.array(input_img)\n",
        "print(input_img)"
      ],
      "metadata": {
        "colab": {
          "base_uri": "https://localhost:8080/"
        },
        "id": "AuendR5SOd9o",
        "outputId": "b3374f8c-ae41-4711-e4f3-943d845621a7"
      },
      "execution_count": null,
      "outputs": [
        {
          "output_type": "stream",
          "name": "stdout",
          "text": [
            "[[0 0 0 0 0 0 0 0]\n",
            " [0 0 0 1 0 0 0 0]\n",
            " [0 1 1 1 1 1 0 0]\n",
            " [0 1 1 0 1 1 1 0]]\n"
          ]
        }
      ]
    },
    {
      "cell_type": "markdown",
      "source": [
        "팽창"
      ],
      "metadata": {
        "id": "SRZIRTC9QD-L"
      }
    },
    {
      "cell_type": "code",
      "source": [
        "print(input_img.shape[0]-1)"
      ],
      "metadata": {
        "colab": {
          "base_uri": "https://localhost:8080/"
        },
        "id": "Z0826aUmR8uj",
        "outputId": "fe67fa04-f6ed-4e75-e572-3712e49397ce"
      },
      "execution_count": null,
      "outputs": [
        {
          "output_type": "stream",
          "name": "stdout",
          "text": [
            "3\n"
          ]
        }
      ]
    },
    {
      "cell_type": "code",
      "source": [
        "expansion_img=np.zeros((4,8))\n",
        "for i in range(0, input_img.shape[0]):\n",
        "    for j in range(0, input_img.shape[1]-1):\n",
        "        if input_img[i, j] == 1:\n",
        "            expansion_img[i, j] = 1\n",
        "            if input_img[i, j-1] == 0 or input_img[i,j+1]==0:\n",
        "                expansion_img[i, j] = 1\n",
        "                expansion_img[i, j+1] = 1\n",
        "                expansion_img[i, j-1] = 1\n",
        "\n",
        "\n",
        "print(expansion_img)"
      ],
      "metadata": {
        "colab": {
          "base_uri": "https://localhost:8080/"
        },
        "id": "Jw9-9ZyaQDIR",
        "outputId": "2ce783e3-f871-4abf-e02e-b7fbb7444864"
      },
      "execution_count": null,
      "outputs": [
        {
          "output_type": "stream",
          "name": "stdout",
          "text": [
            "[[0. 0. 0. 0. 0. 0. 0. 0.]\n",
            " [0. 0. 1. 1. 1. 0. 0. 0.]\n",
            " [1. 1. 1. 1. 1. 1. 1. 0.]\n",
            " [1. 1. 1. 1. 1. 1. 1. 1.]]\n"
          ]
        }
      ]
    },
    {
      "cell_type": "markdown",
      "source": [
        "침식"
      ],
      "metadata": {
        "id": "mjl8YP4TQGk3"
      }
    },
    {
      "cell_type": "code",
      "source": [
        "\n",
        "corrosion_img=np.zeros((4,8))\n",
        "for i in range(0, input_img.shape[0]):\n",
        "    for j in range(0, input_img.shape[1]-1):\n",
        "        if input_img[i, j] == 1:\n",
        "            if input_img[i, j-1] == 1 and input_img[i,j+1]==1:\n",
        "                corrosion_img[i, j] = 1\n",
        "        else:\n",
        "            corrosion_img[i, j] = 0\n",
        "print(corrosion_img)"
      ],
      "metadata": {
        "colab": {
          "base_uri": "https://localhost:8080/"
        },
        "id": "evh-6eUgQG4X",
        "outputId": "059b0d46-3062-48e6-969d-dfebe437ef9e"
      },
      "execution_count": null,
      "outputs": [
        {
          "output_type": "stream",
          "name": "stdout",
          "text": [
            "[[0. 0. 0. 0. 0. 0. 0. 0.]\n",
            " [0. 0. 0. 0. 0. 0. 0. 0.]\n",
            " [0. 0. 1. 1. 1. 0. 0. 0.]\n",
            " [0. 0. 0. 0. 0. 1. 0. 0.]]\n"
          ]
        }
      ]
    },
    {
      "cell_type": "markdown",
      "source": [
        "2. 다음 5X5 영상에 대해 히스토그램 평활화를 수행하시오. 최종적으로 히스토그램 평활화된 이미지를 표시하시오. (10점)\n",
        "\n",
        "힌트: opencv 라이브러리의 함수들을 사용해도 무방하나, 추천하지 않음. (원래 5X5 영상 화소 범위가 0~7이고, opencv 함수는 범위를 0~255로 간주.)\n",
        "\n",
        "﻿(숫자로 표현해도, cv2_imshow 함수를 사용해서 표현해도, 한글이나 워드파일 형식으로 작성해도 무방함)\n",
        "\n"
      ],
      "metadata": {
        "id": "_qdB4tTlAeo9"
      }
    },
    {
      "cell_type": "code",
      "source": [
        "img=[[0,0,1,1,3],[2,3,3,3,3],[3,3,4,4,4],[4,3,4,5,7],[4,4,4,5,7]]\n",
        "img = np.array(img)\n",
        "print(img)\n",
        "\n",
        "histogram = np.zeros((8))\n",
        "height = img.shape[0]\n",
        "width = img.shape[1]\n",
        "\n",
        "for i in range(height):\n",
        "    for j in range(width):\n",
        "        histogram[int(img[i][j])] += 1\n",
        "print(histogram)\n",
        "\n",
        "import matplotlib.pyplot as plt\n",
        "plt.bar(range(len(histogram)), histogram)"
      ],
      "metadata": {
        "colab": {
          "base_uri": "https://localhost:8080/",
          "height": 557
        },
        "id": "bqXX9_ZvC_Fr",
        "outputId": "31c499e4-7025-46ce-b72f-0fb4bc58d04d"
      },
      "execution_count": null,
      "outputs": [
        {
          "output_type": "stream",
          "name": "stdout",
          "text": [
            "[[0 0 1 1 3]\n",
            " [2 3 3 3 3]\n",
            " [3 3 4 4 4]\n",
            " [4 3 4 5 7]\n",
            " [4 4 4 5 7]]\n",
            "[2. 2. 1. 8. 8. 2. 0. 2.]\n"
          ]
        },
        {
          "output_type": "execute_result",
          "data": {
            "text/plain": [
              "<BarContainer object of 8 artists>"
            ]
          },
          "metadata": {},
          "execution_count": 88
        },
        {
          "output_type": "display_data",
          "data": {
            "text/plain": [
              "<Figure size 640x480 with 1 Axes>"
            ],
            "image/png": "[encoded data removed]"
          },
          "metadata": {}
        }
      ]
    },
    {
      "cell_type": "code",
      "source": [
        "\n",
        "histogram = np.zeros(8, dtype=int)\n",
        "for i in range(height):\n",
        "    for j in range(width):\n",
        "        histogram[img[i, j]] += 1\n",
        "\n",
        "\n",
        "cdf = np.cumsum(histogram)\n",
        "cdf_min = cdf[cdf > 0].min()\n",
        "\n",
        "\n",
        "hisMatch = np.round((cdf - cdf_min) / (height * width - cdf_min) * 7).astype(int)\n",
        "\n",
        "\n",
        "equalized_img = np.zeros_like(img)\n",
        "for i in range(height):\n",
        "    for j in range(width):\n",
        "        equalized_img[i, j] = hisMatch[img[i, j]]\n",
        "\n",
        "\n",
        "equalized_hist = np.zeros(8, dtype=int)\n",
        "for i in range(height):\n",
        "    for j in range(width):\n",
        "        equalized_hist[equalized_img[i, j]] += 1\n",
        "\n",
        "\n",
        "plt.figure(figsize=(12, 5))\n",
        "\n",
        "plt.subplot(1, 2, 1)\n",
        "plt.bar(range(8), histogram, color='blue', alpha=0.6)\n",
        "plt.title(\"Original Histogram\")\n",
        "plt.xticks(range(8))\n",
        "\n",
        "plt.subplot(1, 2, 2)\n",
        "plt.bar(range(8), equalized_hist, color='red', alpha=0.6)\n",
        "plt.title(\"Equalized Histogram\")\n",
        "plt.xticks(range(8))\n",
        "\n",
        "plt.show()\n",
        "\n",
        "\n",
        "print(\"원본 이미지:\\n\", img)\n",
        "print(\"히스토그램 평활화 적용 이미지:\\n\", equalized_img)\n"
      ],
      "metadata": {
        "colab": {
          "base_uri": "https://localhost:8080/",
          "height": 686
        },
        "id": "HLiXgEZgOGZO",
        "outputId": "76f2d154-3be3-4355-d427-0b772cc20580"
      },
      "execution_count": null,
      "outputs": [
        {
          "output_type": "display_data",
          "data": {
            "text/plain": [
              "<Figure size 1200x500 with 2 Axes>"
            ],
            "image/png": "[encoded data removed]"
          },
          "metadata": {}
        },
        {
          "output_type": "stream",
          "name": "stdout",
          "text": [
            "원본 이미지:\n",
            " [[0 0 1 1 3]\n",
            " [2 3 3 3 3]\n",
            " [3 3 4 4 4]\n",
            " [4 3 4 5 7]\n",
            " [4 4 4 5 7]]\n",
            "히스토그램 평활화 적용 이미지:\n",
            " [[0 0 1 1 3]\n",
            " [1 3 3 3 3]\n",
            " [3 3 6 6 6]\n",
            " [6 3 6 6 7]\n",
            " [6 6 6 6 7]]\n"
          ]
        }
      ]
    }
  ]
}